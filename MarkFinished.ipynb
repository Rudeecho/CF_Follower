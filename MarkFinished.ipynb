{
  "nbformat": 4,
  "nbformat_minor": 0,
  "metadata": {
    "colab": {
      "name": "MarkFinished.ipynb",
      "provenance": [],
      "collapsed_sections": [],
      "toc_visible": true
    },
    "kernelspec": {
      "name": "python3",
      "display_name": "Python 3"
    }
  },
  "cells": [
    {
      "cell_type": "code",
      "metadata": {
        "id": "Fiq5CgLiLUpp"
      },
      "source": [
        "color = '#99FF33'                  # Your chosen color\n",
        "file_path = \"\"                     # file path \n",
        "file_name = \"Priyansh31dec\"        # file name \n",
        "ind_start = 0                      # start index\n",
        "ind_end = 100                      # end index"
      ],
      "execution_count": 9,
      "outputs": []
    },
    {
      "cell_type": "code",
      "metadata": {
        "colab": {
          "base_uri": "https://localhost:8080/"
        },
        "id": "IdA3t9JCMCTA",
        "outputId": "0f06c2fa-7d13-431a-ea91-4be3c4120361"
      },
      "source": [
        "a = \"<tr bgcolor={}>\".format(color)\n",
        "with open(file_path + '{}.html'.format(file_name), 'r+') as f:\n",
        "    lines = f.readlines()\n",
        "    for tar in range(ind_start,ind_end+1):\n",
        "        lines[9+tar*5] = lines[9+tar*5] + a\n",
        "    f.seek(0)\n",
        "    for line in lines:\n",
        "        f.write(line)"
      ],
      "execution_count": 17,
      "outputs": [
        {
          "output_type": "stream",
          "text": [
            "/\n"
          ],
          "name": "stdout"
        }
      ]
    }
  ]
}