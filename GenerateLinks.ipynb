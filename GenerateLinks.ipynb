{
  "nbformat": 4,
  "nbformat_minor": 0,
  "metadata": {
    "kernelspec": {
      "display_name": "Python 3",
      "language": "python",
      "name": "python3"
    },
    "language_info": {
      "codemirror_mode": {
        "name": "ipython",
        "version": 3
      },
      "file_extension": ".py",
      "mimetype": "text/x-python",
      "name": "python",
      "nbconvert_exporter": "python",
      "pygments_lexer": "ipython3",
      "version": "3.7.6"
    },
    "colab": {
      "name": "GenerateLinks.ipynb",
      "provenance": [],
      "collapsed_sections": []
    }
  },
  "cells": [
    {
      "cell_type": "code",
      "metadata": {
        "id": "oGKtNshT6gPz"
      },
      "source": [
        "user = \"Priyansh31dec\"             # CodeForces handle name\n",
        "start = 1                          # First page number of User Submission's\n",
        "fin = 39                           # Last page number of User Submission's\n",
        "file_name = user                   # file name \n",
        "file_path = \"\"                     # file path "
      ],
      "execution_count": 19,
      "outputs": []
    },
    {
      "cell_type": "code",
      "metadata": {
        "id": "dI0DwwMc6gP1"
      },
      "source": [
        "import pandas as pd\n",
        "import requests\n",
        "from bs4 import BeautifulSoup\n",
        "url = \"http://codeforces.com/submissions/{}/page/\".format(user)\n",
        "url0 = \"http://codeforces.com\"\n",
        "df = pd.DataFrame(columns=['#', 'When', 'Who', 'Problem', 'Lang', 'Verdict', 'Time', 'Memory','link'])"
      ],
      "execution_count": 20,
      "outputs": []
    },
    {
      "cell_type": "code",
      "metadata": {
        "id": "ySWUEh416gP2"
      },
      "source": [
        "for i in range(fin,start-1,-1):\n",
        "    r = requests.get(url+str(i))\n",
        "    df_list = pd.read_html(r.text) \n",
        "    df1 = df_list[0]\n",
        "    l = len(df1)\n",
        "    page = requests.get(url+str(i))    \n",
        "    data = page.text\n",
        "    soup = BeautifulSoup(data)\n",
        "    urls = []\n",
        "    table = soup.find_all('table')\n",
        "    tr = soup.find_all('td')\n",
        "    for i in range((int)(len(tr)/8)):\n",
        "        l = str(tr[3+i*8]).split(\" \")[3][6:].split('/')\n",
        "        ans = url0 + '/' + l[1] + '/' + l[2] + '/' + l[3] + '/' + l[4][0]\n",
        "        urls.append(ans)\n",
        "    sr = pd.Series(data=urls)\n",
        "    df1['link'] = sr\n",
        "    df1 = df1[df1['Verdict']=='Accepted'].reset_index(drop=True) \n",
        "    df1 = df1[::-1]\n",
        "    df = pd.concat([df,df1],axis=0)    \n",
        "    df = df.reset_index(drop=True)"
      ],
      "execution_count": 21,
      "outputs": []
    },
    {
      "cell_type": "code",
      "metadata": {
        "id": "Es_h00d5GHVJ"
      },
      "source": [
        "df = df.drop_duplicates(subset=[\"Problem\"])\n",
        "df = df.reset_index(drop=True)"
      ],
      "execution_count": 26,
      "outputs": []
    },
    {
      "cell_type": "code",
      "metadata": {
        "id": "e2gQgJqh6gP3"
      },
      "source": [
        "df0 = df.loc[:,['Problem','link']]\n",
        "df0['link'] = ('<a href=' + (df0['link']) + '><div>' + (df0['link']) + '</div></a>')   \n",
        "df0.to_html(file_path+\"{}.html\".format(file_name),escape=False)    "
      ],
      "execution_count": 27,
      "outputs": []
    },
    {
      "cell_type": "code",
      "metadata": {
        "id": "DxoL9WJ86gP4"
      },
      "source": [
        ""
      ],
      "execution_count": null,
      "outputs": []
    }
  ]
}